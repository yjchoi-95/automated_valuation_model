{
 "cells": [
  {
   "cell_type": "markdown",
   "id": "89b31048-e6a7-455d-ba0c-caf0c77c7c2c",
   "metadata": {},
   "source": [
    "* TSMixer : https://towardsdatascience.com/tsmixer-the-latest-forecasting-model-by-google-2fd1e29a8ccb\n",
    "* TiDE : https://medium.com/@nasdag/tide-revolutionizing-long-term-time-series-forecasting-with-simple-mlp-architectures-21259cbe575b?source=email-3c760fa8e073-1699550791946-digest.reader--21259cbe575b----0-83------------------c04072e4_27b9_49d1_b926_78f71d93bfdc-1\n",
    "* TimesNet : https://towardsdatascience.com/timesnet-the-latest-advance-in-time-series-forecasting-745b69068c9c"
   ]
  },
  {
   "cell_type": "code",
   "execution_count": null,
   "id": "b605ccd6-fd96-406e-8bcf-602b244f0266",
   "metadata": {},
   "outputs": [],
   "source": []
  }
 ],
 "metadata": {
  "kernelspec": {
   "display_name": "Python 3 (ipykernel)",
   "language": "python",
   "name": "python3"
  },
  "language_info": {
   "codemirror_mode": {
    "name": "ipython",
    "version": 3
   },
   "file_extension": ".py",
   "mimetype": "text/x-python",
   "name": "python",
   "nbconvert_exporter": "python",
   "pygments_lexer": "ipython3",
   "version": "3.11.5"
  }
 },
 "nbformat": 4,
 "nbformat_minor": 5
}
