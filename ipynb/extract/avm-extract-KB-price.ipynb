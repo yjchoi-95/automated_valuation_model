{
 "cells": [
  {
   "cell_type": "markdown",
   "id": "9a84400e-8982-49e3-894b-c3f008bc8bca",
   "metadata": {},
   "source": [
    "## Import"
   ]
  },
  {
   "cell_type": "code",
   "execution_count": null,
   "id": "bb464c78-aa28-4a34-94ec-1eecec0f7cc0",
   "metadata": {},
   "outputs": [],
   "source": [
    "import xlwings as xw\n",
    "import pandas as pd\n",
    "import numpy as np\n",
    "import time\n",
    "import os\n",
    "import requests\n",
    "import json\n",
    "import warnings\n",
    "\n",
    "warnings.filterwarnings('ignore')\n",
    "\n",
    "from urllib import parse\n",
    "\n",
    "# path setting\n",
    "if not os.path.isdir('../datasets/KB/'):\n",
    "    os.mkdir('../datasets/KB/')\n",
    "    \n",
    "os.chdir('../datasets/KB/')"
   ]
  },
  {
   "cell_type": "code",
   "execution_count": null,
   "id": "8b1804da-4171-4043-a503-fa0dfb943110",
   "metadata": {},
   "outputs": [],
   "source": []
  },
  {
   "cell_type": "markdown",
   "id": "81c2d9e5-38f5-4da1-b144-3ef25ebdcf9f",
   "metadata": {},
   "source": [
    "* get data"
   ]
  },
  {
   "cell_type": "code",
   "execution_count": 30,
   "id": "36775792-32a0-4324-ae4d-266323e3bafa",
   "metadata": {},
   "outputs": [
    {
     "name": "stderr",
     "output_type": "stream",
     "text": [
      "C:\\Windows\\Anaconda3\\lib\\site-packages\\urllib3\\connectionpool.py:1095: InsecureRequestWarning: Unverified HTTPS request is being made to host 'api.kbland.kr'. Adding certificate verification is strongly advised. See: https://urllib3.readthedocs.io/en/latest/advanced-usage.html#tls-warnings\n",
      "  warnings.warn(\n"
     ]
    }
   ],
   "source": [
    "headers = {\n",
    "    \"User-Agent\": \"Mozilla/5.0 (Windows NT 10.0; Win64; x64; rv:66.0) Gecko/20100101 Firefox/66.0\",\n",
    "    \"Accept-Encoding\": \"*\",\n",
    "    \"Connection\": \"keep-alive\"\n",
    "}\n",
    "\n",
    "#강원도에서 시, 군 단위 법정동코드 얻기\n",
    "url_get_city_codes = 'https://api.kbland.kr/land-complex/map/siGunGuAreaNameList?시도명=' \n",
    "province  = '서울시'\n",
    "year = 2023\n",
    "url_get_city_codes += province\n",
    "city_codes_response = requests.get(url_get_city_codes, headers = headers)\n",
    "city_codes_body = city_codes_response.json()['dataBody']['data']\n",
    "city_codes = []\n",
    "for c in city_codes_body:\n",
    "    city_codes.append(c['시군구명'])"
   ]
  },
  {
   "cell_type": "code",
   "execution_count": 10,
   "id": "82224275-db6e-4904-8124-01b59e74ddd3",
   "metadata": {},
   "outputs": [],
   "source": [
    "province  = '서울특별시'"
   ]
  },
  {
   "cell_type": "code",
   "execution_count": 34,
   "id": "2dd30648-f281-43a6-910a-4d7a3cd26499",
   "metadata": {},
   "outputs": [
    {
     "name": "stderr",
     "output_type": "stream",
     "text": [
      "C:\\Windows\\Anaconda3\\lib\\site-packages\\urllib3\\connectionpool.py:1095: InsecureRequestWarning: Unverified HTTPS request is being made to host 'api.kbland.kr'. Adding certificate verification is strongly advised. See: https://urllib3.readthedocs.io/en/latest/advanced-usage.html#tls-warnings\n",
      "  warnings.warn(\n"
     ]
    }
   ],
   "source": [
    "url_get_dong_list = 'https://api.kbland.kr/land-complex/map/stutDongAreaNameList?시도명=서울시&시군구명='\n",
    "c = '종로구'\n",
    "url_get_dong_list += c\n",
    "dong_list_response = requests.get(url_get_dong_list, headers = headers)\n",
    "dong_list_body = dong_list_response.json()['dataBody']['data']"
   ]
  },
  {
   "cell_type": "code",
   "execution_count": null,
   "id": "27924e07-f756-4c4a-88d7-d8e76ff50d8f",
   "metadata": {
    "tags": []
   },
   "outputs": [],
   "source": [
    "for d in dong_list_body:    \n",
    "    url_get_apt_list = 'https://api.kbland.kr/land-complex/complexComm/hscmList?법정동코드='    \n",
    "    url_get_apt_list = url_get_apt_list + d['법정동코드']\n",
    "    apt_list_response = requests.get(url_get_apt_list, headers = headers)\n",
    "    if apt_list_response.json()['dataBody']['resultCode'] == 33210:\n",
    "        continue    \n",
    "    apt_list_body = apt_list_response.json()['dataBody']['data']"
   ]
  },
  {
   "cell_type": "code",
   "execution_count": 45,
   "id": "95a292f7-fd9c-4938-89a3-4677c8042c01",
   "metadata": {},
   "outputs": [],
   "source": [
    "for a in apt_list_body:\n",
    "    apt_id = a['단지기본일련번호']\n",
    "    url_apt_info = 'https://api.kbland.kr/land-complex/complex/typInfo?단지기본일련번호=' + str(apt_id)\n",
    "    url_gongsi_price_list = 'https://api.kbland.kr/land-complex/complex/pubLandPriceByDong?단지기본일련번호=' + str(apt_id)\n",
    "\n",
    "    gongsi_price_list = requests.get(url_gongsi_price_list, headers = headers).json()['dataBody']\n",
    "    if gongsi_price_list['resultCode'] == 33210: #kb에 공시가 정보 없음.            \n",
    "        continue                       \n",
    "\n",
    "    url_gongsi_dong_price_list = 'https://api.kbland.kr/land-complex/complex/dongHoList?단지기본일련번호=' + str(apt_id)"
   ]
  },
  {
   "cell_type": "code",
   "execution_count": null,
   "id": "2fbea528-0eed-4db8-b924-7a243bae612b",
   "metadata": {},
   "outputs": [],
   "source": []
  },
  {
   "cell_type": "code",
   "execution_count": null,
   "id": "e309dc5c-c1c0-4c3a-94a4-fe74da2d7be7",
   "metadata": {},
   "outputs": [],
   "source": []
  }
 ],
 "metadata": {
  "kernelspec": {
   "display_name": "Python 3 (ipykernel)",
   "language": "python",
   "name": "python3"
  },
  "language_info": {
   "codemirror_mode": {
    "name": "ipython",
    "version": 3
   },
   "file_extension": ".py",
   "mimetype": "text/x-python",
   "name": "python",
   "nbconvert_exporter": "python",
   "pygments_lexer": "ipython3",
   "version": "3.9.13"
  }
 },
 "nbformat": 4,
 "nbformat_minor": 5
}
