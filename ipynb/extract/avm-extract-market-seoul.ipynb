{
 "cells": [
  {
   "cell_type": "markdown",
   "id": "ad755c34-08bc-499d-b142-8ad5a5be529f",
   "metadata": {},
   "source": [
    "## Import"
   ]
  },
  {
   "cell_type": "code",
   "execution_count": 1,
   "id": "22e1d632-2341-46f4-95dc-e4974ad4b1a8",
   "metadata": {},
   "outputs": [],
   "source": [
    "import requests\n",
    "import os\n",
    "import pandas as pd\n",
    "import warnings\n",
    "import xmltodict\n",
    "import time\n",
    "import pickle\n",
    "\n",
    "from tqdm import tqdm\n",
    "\n",
    "warnings.filterwarnings('ignore')"
   ]
  },
  {
   "cell_type": "code",
   "execution_count": null,
   "id": "dd78c61b-7fbe-4467-9d77-44fdbd02542b",
   "metadata": {},
   "outputs": [],
   "source": []
  },
  {
   "cell_type": "markdown",
   "id": "d64afd55-d72d-49cf-a3db-c91c301f5806",
   "metadata": {},
   "source": [
    "* functions"
   ]
  },
  {
   "cell_type": "code",
   "execution_count": null,
   "id": "a9e68dbd-613e-4007-9c1b-eec4d0e0e94e",
   "metadata": {},
   "outputs": [],
   "source": [
    "def extract(select, t_value, y_value, q_value):\n",
    "    k_value = key_dict[select]\n",
    "    s_value = service_dict[select]\n",
    "\n",
    "    start = 1\n",
    "    end = start + 999\n",
    "\n",
    "    while True:\n",
    "        if select != '상권-소득소비':\n",
    "            base_url = 'http://openapi.seoul.go.kr:8088/{KEY}/{TYPE}/{SERVICE}/{START}/{END}/'\n",
    "            URL = base_url.format(KEY=k_value, TYPE = t_value, SERVICE = s_value, START = start, END = end)\n",
    "        else:\n",
    "            base_url = 'http://openapi.seoul.go.kr:8088/{KEY}/{TYPE}/{SERVICE}/{START}/{END}/{STDR_YY_CD}/{STDR_QW_CD}/'\n",
    "            URL = base_url.format(KEY=k_value, TYPE = t_value, SERVICE = s_value, START = start, END = end, STDR_YY_CD = y_value, STDR_QW_CD = q_value)\n",
    "            \n",
    "        r = requests.get(URL)\n",
    "        res_dict = r.json()\n",
    "\n",
    "        if start == 1:\n",
    "            df1 = pd.DataFrame(res_dict[s_value]['row'])\n",
    "            df1.rename(columns = change_dict, inplace = True)\n",
    "        else:\n",
    "            temp_df = pd.DataFrame(res_dict[s_value]['row'])\n",
    "            temp_df.rename(columns = change_dict, inplace = True)\n",
    "            df1 = pd.concat([df1, temp_df])\n",
    "\n",
    "        if df1.shape[0] % 1000 != 0:\n",
    "            break\n",
    "        elif 'RESULT' in list(res_dict.keys()):\n",
    "            break\n",
    "        else:\n",
    "            start += 1000\n",
    "            end += 1000\n",
    "    return df1\n",
    "\n",
    "def extract_format(select_list, t_value = 'json', y_value = 2023, q_value = 1):\n",
    "    start = time.time()\n",
    "    df_list = []\n",
    "    \n",
    "    for select in select_list:\n",
    "        print(select)\n",
    "        df1 = extract(select, t_value, y_value, q_value)\n",
    "        df_list.append(df1)\n",
    "    \n",
    "    end = time.time()\n",
    "    print(\"수행시간: %f 초\" % (end - start))\n",
    "    \n",
    "    return df_list"
   ]
  },
  {
   "cell_type": "code",
   "execution_count": null,
   "id": "47e5a503-108d-4ad1-babe-65bad8f4b081",
   "metadata": {},
   "outputs": [],
   "source": []
  },
  {
   "cell_type": "markdown",
   "id": "294c5f41-b829-4d77-80a4-7cee8bf22593",
   "metadata": {},
   "source": [
    "* get data"
   ]
  },
  {
   "cell_type": "code",
   "execution_count": 3,
   "id": "8955be4c-88ee-42a8-ae28-d736cd451041",
   "metadata": {},
   "outputs": [],
   "source": [
    "base_url = 'http://openapi.seoul.go.kr:8088/{KEY}/{TYPE}/{SERVICE}/{START}/{END}/'\n",
    "\n",
    "service_dict = {'상권영역': 'TbgisTrdarRelm',\n",
    "             '상권-생활인구': 'VwsmTrdarFlpopQq',\n",
    "             '상권-직장인구': 'VwsmTrdarWrcPopltnQq',\n",
    "             '상권-점포': 'VwsmTrdhlStorQq',\n",
    "             '상권배후지-점포': 'VwsmTrdhlStorQq',\n",
    "             '상권-추정매출': 'VwsmTrdarSelngQq',\n",
    "             '상권-상권변화지표': 'VwsmTrdarIxQq',\n",
    "             '상권-상주인구': 'VwsmTrdarRepopQq',\n",
    "             '상권-아파트': 'InfoTrdarAptQq',\n",
    "             '상권-소득소비': 'trdarNcmCnsmp',\n",
    "             '상권배후지-생활인구': 'VwsmTrdhlFlpopQq',\n",
    "             '상권배후지-소득소비': 'VwsmTrdhlNcmCnsmpQq',\n",
    "             '상권배후지-직장인구': 'Vwsm_TrdhlWrcPopltnQq',\n",
    "             '상권배후지-추정매출': 'VwsmTrdhlSelngQq',\n",
    "             '상권배후지-아파트': 'VwsmTrdhlAptQq'}\n",
    "\n",
    "key_dict = {'상권영역':'426279496461757236355952525748',\n",
    "            '상권-생활인구':'754f44766a617572333456764d687a',\n",
    "            '상권-직장인구':'4d747762636175723130316f55696246',\n",
    "            '상권-점포':'624976595761757239316876776a44',\n",
    "            '상권배후지-점포':'536872566e6175723132354a76466f48',\n",
    "            '상권-추정매출':'637a59624261757239396e594e7464',\n",
    "            '상권-상권변화지표':'754563774b61757231323876446b6555',\n",
    "            '상권-상주인구':'75456564516175723939424656616e',\n",
    "            '상권-아파트':'6a4f725a4561757231374776577941',\n",
    "            '상권-소득소비':'455163586461757235306a42657277',\n",
    "            '상권배후지-생활인구':'656144774b61757232344579745653',\n",
    "            '상권배후지-소득소비':'70596b475161757235376f616d4c4f',\n",
    "            '상권배후지-직장인구':'595a67495161757233376f6249745a',\n",
    "            '상권배후지-추정매출':'6651664c4261757236396f49526c58',\n",
    "            '상권배후지-아파트':'646e71454461757234316c46495777'}\n",
    "\n",
    "\n",
    "change_dict = {'TRDAR_SE_CD':'상권_구분_코드',              \n",
    "                'TRDAR_SE_CD_NM':'상권_구분_코드_명',\n",
    "                'TRDAR_CD':'상권_코드',\n",
    "                'TRDAR_CD_NM':'상권_코드_명',\n",
    "                'XCNTS_VALUE':'엑스좌표_값',\n",
    "                'YDNTS_VALUE':'와이좌표_값',\n",
    "                'SIGNGU_CD':'시군구_코드',\n",
    "                'ADSTRD_CD':'행정동_코드',\n",
    "                'STDR_YM_CD':'기준_년월_코드'}\n",
    "\n",
    "select_list = ['상권영역','상권-생활인구','상권-직장인구','상권-점포','상권배후지-점포','상권-추정매출',\n",
    "               '상권-상권변화지표','상권-상주인구','상권-소득소비', '상권-아파트','상권배후지-생활인구',\n",
    "               '상권배후지-소득소비','상권배후지-직장인구','상권배후지-추정매출','상권배후지-아파트']"
   ]
  },
  {
   "cell_type": "code",
   "execution_count": 6,
   "id": "239611ea-44f2-425d-8d18-132b09b7a61a",
   "metadata": {
    "tags": []
   },
   "outputs": [
    {
     "name": "stdout",
     "output_type": "stream",
     "text": [
      "상권영역\n",
      "상권-생활인구\n",
      "상권-직장인구\n",
      "상권-점포\n",
      "상권배후지-점포\n",
      "상권-추정매출\n",
      "상권-상권변화지표\n",
      "상권-상주인구\n",
      "상권-소득소비\n",
      "상권-아파트\n",
      "상권배후지-생활인구\n",
      "상권배후지-소득소비\n",
      "상권배후지-직장인구\n",
      "상권배후지-추정매출\n",
      "상권배후지-아파트\n",
      "수행시간: 39124.812449 초\n"
     ]
    }
   ],
   "source": [
    "df_test = extract_format(select_list)"
   ]
  },
  {
   "cell_type": "code",
   "execution_count": null,
   "id": "954b2a56-0387-470a-8769-fe7e1c833481",
   "metadata": {},
   "outputs": [],
   "source": []
  },
  {
   "cell_type": "markdown",
   "id": "caf3d988-87fc-47ec-b67b-290921359a90",
   "metadata": {},
   "source": [
    "* save dict"
   ]
  },
  {
   "cell_type": "code",
   "execution_count": 11,
   "id": "f6af90cb-2df1-4a3b-83a7-4d72e6a36884",
   "metadata": {
    "tags": []
   },
   "outputs": [],
   "source": [
    "data_path = './datasets/'\n",
    "save_path = data_path + 'market-seoul/'\n",
    "\n",
    "save_dict = {'name': select_list,\n",
    "             'data': df_test}\n",
    "\n",
    "if not os.path.isdir(save_path):\n",
    "    os.mkdir(save_path)\n",
    "\n",
    "with open(save_path + 'market-seoul-df.pickle', 'wb') as f:\n",
    "    pickle.dump(save_dict,f)"
   ]
  },
  {
   "cell_type": "code",
   "execution_count": null,
   "id": "1d7f5287-68c4-44dd-bafa-9f52c9cbd376",
   "metadata": {},
   "outputs": [],
   "source": []
  },
  {
   "cell_type": "markdown",
   "id": "0873d145-e3ee-4db8-bf46-c822f1022a36",
   "metadata": {},
   "source": [
    "## 참고자료"
   ]
  },
  {
   "cell_type": "markdown",
   "id": "36135338-b517-4edf-aad9-cb17bab59b4e",
   "metadata": {},
   "source": [
    "* 상권영역: http://data.seoul.go.kr/dataList/OA-15560/S/1/datasetView.do\n",
    "* 상권-생활인구: http://data.seoul.go.kr/dataList/OA-15568/S/1/datasetView.do\n",
    "* 상권-직장인구: http://data.seoul.go.kr/dataList/OA-15569/S/1/datasetView.do\n",
    "* 상권-점포: https://data.seoul.go.kr/dataList/OA-15577/S/1/datasetView.do\n",
    "* 상권-추정매출: https://data.seoul.go.kr/dataList/OA-15572/S/1/datasetView.do\n",
    "* 상권-상권변화지표: https://data.seoul.go.kr/dataList/OA-15576/S/1/datasetView.do\n",
    "* 상권-상주인구: https://data.seoul.go.kr/dataList/OA-15584/S/1/datasetView.do\n",
    "* 상권-아파트: https://data.seoul.go.kr/dataList/OA-15566/S/1/datasetView.do\n",
    "* 상권-소득소비: https://data.seoul.go.kr/dataList/OA-21278/S/1/datasetView.do\n",
    "* 상권배후지-점포: https://data.seoul.go.kr/dataList/OA-15578/S/1/datasetView.do\n",
    "* 상권배후지-생활인구: https://data.seoul.go.kr/dataList/OA-15582/S/1/datasetView.do\n",
    "* 상권배후지-소득소비: https://data.seoul.go.kr/dataList/OA-15571/S/1/datasetView.do\n",
    "* 상권배후지-직장인구: https://data.seoul.go.kr/dataList/OA-15570/S/1/datasetView.do\n",
    "* 상권배후지-추정매출: https://data.seoul.go.kr/dataList/OA-15573/S/1/datasetView.do\n",
    "* 상권배후지-아파트: https://data.seoul.go.kr/dataList/OA-15574/S/1/datasetView.do"
   ]
  }
 ],
 "metadata": {
  "kernelspec": {
   "display_name": "Python 3 (ipykernel)",
   "language": "python",
   "name": "python3"
  },
  "language_info": {
   "codemirror_mode": {
    "name": "ipython",
    "version": 3
   },
   "file_extension": ".py",
   "mimetype": "text/x-python",
   "name": "python",
   "nbconvert_exporter": "python",
   "pygments_lexer": "ipython3",
   "version": "3.9.13"
  }
 },
 "nbformat": 4,
 "nbformat_minor": 5
}
