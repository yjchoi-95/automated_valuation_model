{
 "cells": [
  {
   "cell_type": "markdown",
   "id": "66350a7d-9fd5-486e-ba41-cc405516bdeb",
   "metadata": {},
   "source": [
    "## Import"
   ]
  },
  {
   "cell_type": "code",
   "execution_count": 1,
   "id": "629a0f2b-b458-4bbb-b896-696da3ebcbf2",
   "metadata": {},
   "outputs": [],
   "source": [
    "from tqdm import tqdm\n",
    "\n",
    "import requests\n",
    "import os\n",
    "import pandas as pd\n",
    "import warnings\n",
    "\n",
    "\n",
    "warnings.filterwarnings('ignore')\n",
    "\n",
    "# path setting\n",
    "if not os.path.isdir('../datasets/court/'):\n",
    "    os.mkdir('../datasets/court/')\n",
    "    \n",
    "os.chdir('../datasets/court/')"
   ]
  },
  {
   "cell_type": "code",
   "execution_count": null,
   "id": "fb69044b-4d11-46ed-bab4-828d8c4568e3",
   "metadata": {},
   "outputs": [],
   "source": []
  },
  {
   "cell_type": "markdown",
   "id": "c65f16be-4105-46d4-ae40-218bf4a3492c",
   "metadata": {},
   "source": [
    "* 기본 setting"
   ]
  },
  {
   "cell_type": "code",
   "execution_count": 222,
   "id": "725466a7-3a4c-42f3-8778-e9aba6e6a322",
   "metadata": {},
   "outputs": [],
   "source": [
    "# 연\n",
    "year = [x for x in range(2000, 2024)]\n",
    "# 월\n",
    "month = [x for x in range(1, 13) if x % 2 == 1]\n",
    "\n",
    "# api url\n",
    "url_dict = {'소유권이전등기-강제경매':'https://data.iros.go.kr/openapi/cr/rs/selectCrRsRgsCsOpenApi.rest?id=0000000048',\n",
    "           '소유권이전등기-임의경매':'https://data.iros.go.kr/openapi/cr/rs/selectCrRsRgsCsOpenApi.rest?id=0000000053',\n",
    "           '소유권이전등기-공매':'https://data.iros.go.kr/openapi/cr/rs/selectCrRsRgsCsOpenApi.rest?id=0000000058',\n",
    "            '소유권이전등기-매매':'https://data.iros.go.kr/openapi/cr/rs/selectCrRsRgsCsOpenApi.rest?id=0000000024',\n",
    "            '강제경매개시결정등기현황':'https://data.iros.go.kr/openapi/cr/rs/selectCrRsRgsCsOpenApi.rest?id=0000000087',\n",
    "            '임의경매개시결정등기현황':'https://data.iros.go.kr/openapi/cr/rs/selectCrRsRgsCsOpenApi.rest?id=0000000083',\n",
    "            '소유권이전등기-매매(부동산)':'https://data.iros.go.kr/openapi/cr/rs/selectCrRsRgsCsOpenApi.rest?id=0000000020',\n",
    "            '소유권이전등기-공매(부동산)':'https://data.iros.go.kr/openapi/cr/rs/selectCrRsRgsCsOpenApi.rest?id=0000000055',\n",
    "           }\n",
    "\n",
    "# api key\n",
    "api_dict = {'소유권이전등기-강제경매':'2c47d668d3ac46059f410602643f86c4',\n",
    "            '소유권이전등기-임의경매':'1814fd4b4cb34302be0c67e1eb67be7f',\n",
    "            '소유권이전등기-공매':'8ff9bca9729a4bcead69efe2499c8dcd',\n",
    "            '소유권이전등기-매매':'4c9002903c1b44ea852cba203b19fd45',\n",
    "            '강제경매개시결정등기현황':'298e84b40fd14906907d7ff2df70f6b1',\n",
    "            '임의경매개시결정등기현황':'d1d75945b014456e8adf1b81a254ba9c',\n",
    "            '소유권이전등기-매매(부동산)':'8d4e9d52e0494c0e969f6d59594b0338',\n",
    "            '소유권이전등기-공매(부동산)':'0034e3d4052e47ceadcaab93b5793cd1'\n",
    "           }"
   ]
  },
  {
   "cell_type": "code",
   "execution_count": 191,
   "id": "44e105f6-c6a2-4f6e-a3fd-546f3f1941cd",
   "metadata": {},
   "outputs": [],
   "source": [
    "api_loop = list(url_dict.keys())"
   ]
  },
  {
   "cell_type": "code",
   "execution_count": 223,
   "id": "8c728ce2-1d77-4234-a2d2-940bef845f2a",
   "metadata": {},
   "outputs": [
    {
     "name": "stderr",
     "output_type": "stream",
     "text": [
      "100%|██████████████████████████████████████████████████████████████████████████████████| 24/24 [03:37<00:00,  9.05s/it]\n"
     ]
    }
   ],
   "source": [
    "api = '소유권이전등기-공매(부동산)'\n",
    "\n",
    "url = url_dict[api]\n",
    "select_key = api_dict[api]\n",
    "\n",
    "# 수집\n",
    "cnt = 0\n",
    "\n",
    "for y in tqdm(year):\n",
    "    for m in month:\n",
    "        params = {\n",
    "            'id': 'aurm2023',\n",
    "            'reqtype': 'json',\n",
    "            'key': select_key,\n",
    "\n",
    "            'search_type_api': '02', # 01 - 년별 검색, 02 - 월별 검색, 03 - 일별 검색\n",
    "            'search_start_date_api': '{a}{b}'.format(a = y, b = str(m).zfill(2)),\n",
    "            'search_end_date_api': '{a}{b}'.format(a = y, b = str(m+1).zfill(2)),\n",
    "        }\n",
    "\n",
    "        r = requests.get(url, params=params)\n",
    "        jo = r.json()\n",
    "        temp = pd.DataFrame(jo['result']['items']['item'])\n",
    "\n",
    "        if temp.shape[0] == 0:\n",
    "            continue\n",
    "\n",
    "        if cnt == 0:\n",
    "            output = temp\n",
    "        else:\n",
    "            output = pd.concat([output, temp])\n",
    "\n",
    "        cnt += 1"
   ]
  },
  {
   "cell_type": "code",
   "execution_count": 194,
   "id": "d5a6927b-548d-40fd-9a4a-edccfae2558a",
   "metadata": {},
   "outputs": [
    {
     "name": "stderr",
     "output_type": "stream",
     "text": [
      "100%|██████████████████████████████████████████████████████████████████████████████████| 24/24 [04:55<00:00, 12.31s/it]\n",
      "100%|██████████████████████████████████████████████████████████████████████████████████| 24/24 [06:31<00:00, 16.31s/it]\n",
      "100%|██████████████████████████████████████████████████████████████████████████████████| 24/24 [03:21<00:00,  8.41s/it]\n",
      "100%|██████████████████████████████████████████████████████████████████████████████████| 24/24 [03:11<00:00,  7.96s/it]\n",
      "100%|██████████████████████████████████████████████████████████████████████████████████| 24/24 [03:35<00:00,  8.97s/it]\n"
     ]
    }
   ],
   "source": [
    "df_list = []\n",
    "\n",
    "for api in api_loop:\n",
    "    url = url_dict[api]\n",
    "    select_key = api_dict[api]\n",
    "    \n",
    "    # 수집\n",
    "    cnt = 0\n",
    "\n",
    "    for y in tqdm(year):\n",
    "        for m in month:\n",
    "            params = {\n",
    "                'id': 'aurm2023',\n",
    "                'reqtype': 'json',\n",
    "                'key': select_key,\n",
    "\n",
    "                'search_type_api': '02', # 01 - 년별 검색, 02 - 월별 검색, 03 - 일별 검색\n",
    "                'search_start_date_api': '{a}{b}'.format(a = y, b = str(m).zfill(2)),\n",
    "                'search_end_date_api': '{a}{b}'.format(a = y, b = str(m+1).zfill(2)),\n",
    "            }\n",
    "\n",
    "            r = requests.get(url, params=params)\n",
    "            jo = r.json()\n",
    "            temp = pd.DataFrame(jo['result']['items']['item'])\n",
    "\n",
    "            if temp.shape[0] == 0:\n",
    "                continue\n",
    "\n",
    "            if cnt == 0:\n",
    "                output = temp\n",
    "            else:\n",
    "                output = pd.concat([output, temp])\n",
    "\n",
    "            cnt += 1\n",
    "            \n",
    "    df_list.append(output)"
   ]
  },
  {
   "cell_type": "code",
   "execution_count": null,
   "id": "8e14ad73-d6a0-48e3-946a-4927cc54d60b",
   "metadata": {},
   "outputs": [],
   "source": [
    "df1, df2, df3, df4, df5, df6, df7, df8 = df_list"
   ]
  },
  {
   "cell_type": "code",
   "execution_count": 155,
   "id": "ffda4db2-e54b-4e11-8e64-d0efd2c48aea",
   "metadata": {},
   "outputs": [],
   "source": [
    "df1.columns = ['날짜', '지역', 'adminRegn2Name', 'cnt', '성별', '연령대']\n",
    "df2.columns = ['날짜', '지역', 'adminRegn2Name', 'cnt', '성별', '연령대']\n",
    "df3.columns = ['날짜', '지역', 'adminRegn2Name', 'cnt', '성별', '연령대']\n",
    "df4.columns = ['날짜', '지역', 'adminRegn2Name', 'cnt', '성별', '연령대']\n",
    "\n",
    "df5.columns = ['날짜', '지역', 'adminRegn2Name', 'cnt']\n",
    "df6.columns = ['날짜', '지역', 'adminRegn2Name', 'cnt']\n",
    "df7.columns = ['날짜', '지역', 'adminRegn2Name', 'cnt']\n",
    "df8.columns = ['날짜', '지역', 'adminRegn2Name', 'cnt']"
   ]
  },
  {
   "cell_type": "code",
   "execution_count": 158,
   "id": "c5327705-9242-4844-87b0-bab057af3b41",
   "metadata": {},
   "outputs": [],
   "source": [
    "del df1['adminRegn2Name']\n",
    "del df2['adminRegn2Name']\n",
    "del df3['adminRegn2Name']\n",
    "del df4['adminRegn2Name']\n",
    "del df5['adminRegn2Name']\n",
    "del df6['adminRegn2Name']\n",
    "del df7['adminRegn2Name']\n",
    "del df8['adminRegn2Name']"
   ]
  },
  {
   "cell_type": "code",
   "execution_count": 4,
   "id": "2ba4739a-7368-49fc-8713-de9c1e7c986f",
   "metadata": {},
   "outputs": [],
   "source": [
    "#data_path = 'C:\\\\Users\\\\Administrator\\\\Documents\\\\GitHub\\\\aurm\\\\Court-api\\\\datasets\\\\'\n",
    "data_path = './datasets/'"
   ]
  },
  {
   "cell_type": "code",
   "execution_count": 218,
   "id": "802779ba-cb40-419f-b13e-ff962d04f8ee",
   "metadata": {},
   "outputs": [],
   "source": [
    "df1.to_excel(data_path + '1.소유권이전등기(강제경매로 인한 매각) 신청 매수인 현황.xlsx', index = False) # 경매\n",
    "df2.to_excel(data_path + '2.소유권이전등기(임의경매로 인한 매각) 신청 매수인 현황.xlsx', index = False) # 경매\n",
    "df3.to_excel(data_path + '3.소유권이전등기(공매) 신청 매수인 현황.xlsx', index = False) # 공매\n",
    "df4.to_excel(data_path + '4.소유권이전등기(매매) 신청 매수인 현황.xlsx', index = False) # 매매\n",
    "df5.to_excel(data_path + '5.강제경매개시결정등기 신청 부동산 현황.xlsx', index = False) # 경매\n",
    "df6.to_excel(data_path + '6.임의경매개시결정등기 신청 부동산 현황.xlsx', index = False) # 경매\n",
    "df7.to_excel(data_path + '7.소유권이전등기(매매) 신청 부동산 현황.xlsx', index = False) # 매매\n",
    "df8.to_excel(data_path + '8.소유권이전등기(공매) 신청 부동산 현황.xlsx', index = False) # 공매"
   ]
  },
  {
   "cell_type": "code",
   "execution_count": 7,
   "id": "55410ab2-db53-4a31-860e-e7bceaaa5586",
   "metadata": {},
   "outputs": [],
   "source": []
  },
  {
   "cell_type": "code",
   "execution_count": null,
   "id": "89553c08-54e3-44e2-9866-f4b817deaa7e",
   "metadata": {},
   "outputs": [],
   "source": []
  },
  {
   "cell_type": "markdown",
   "id": "d047690d-e603-4712-8892-bf5e143f7e63",
   "metadata": {},
   "source": [
    "* 연도별"
   ]
  },
  {
   "cell_type": "code",
   "execution_count": 10,
   "id": "93fea472-ab92-40a5-8903-99b5f3bae99c",
   "metadata": {
    "tags": []
   },
   "outputs": [],
   "source": [
    "def summary(input_):\n",
    "    import copy\n",
    "    df = copy.deepcopy(input_)\n",
    "    \n",
    "    df['구분'] = [x.split(\"-\")[0] for x in df['날짜']]\n",
    "    df['cnt'] = df['cnt'].astype(int)\n",
    "    return df.groupby('구분')['cnt'].sum()"
   ]
  },
  {
   "cell_type": "code",
   "execution_count": 241,
   "id": "549a457f-0bac-47dd-bb38-ba51dd08bb1f",
   "metadata": {},
   "outputs": [],
   "source": [
    "s_df1 = summary(df1)\n",
    "s_df2 = summary(df2)\n",
    "s_df3 = summary(df3)\n",
    "s_df4 = summary(df4)"
   ]
  },
  {
   "cell_type": "code",
   "execution_count": 248,
   "id": "af7bb03b-4698-4b1f-9919-e23bad978b8a",
   "metadata": {},
   "outputs": [],
   "source": [
    "f_output = pd.concat([s_df4, s_df1, s_df2, s_df3], axis = 1)\n",
    "f_output = f_output.reset_index()\n",
    "f_output.columns = ['구분', '매매', '강제', '임의', '공매']\n",
    "f_output['경/공매'] = f_output.iloc[:, 2:].sum(axis = 1)\n",
    "f_output.loc[:, ['구분', '경/공매', '강제', '임의', '공매']].iloc[3:].to_excel(data_path + '연도별 매매, 경매 매수인 정리(2007-2023).xlsx', index = False)"
   ]
  },
  {
   "cell_type": "code",
   "execution_count": null,
   "id": "30f045b4-a9cc-4eba-98ab-710b9f07faff",
   "metadata": {},
   "outputs": [],
   "source": []
  },
  {
   "cell_type": "markdown",
   "id": "c84295a5-2807-450f-b079-d42feb0f72b6",
   "metadata": {},
   "source": [
    "* 5,6,7 처리"
   ]
  },
  {
   "cell_type": "code",
   "execution_count": null,
   "id": "d08bf8b3-d9af-4671-aab0-1b294b9a4513",
   "metadata": {},
   "outputs": [],
   "source": [
    "df5 = pd.read_excel(data_path + '5.강제경매개시결정등기 신청 부동산 현황.xlsx') # 경매\n",
    "df6 = pd.read_excel(data_path + '6.임의경매개시결정등기 신청 부동산 현황.xlsx') # 경매\n",
    "df7 = pd.read_excel(data_path + '7.소유권이전등기(매매) 신청 부동산 현황.xlsx') # 매매\n",
    "\n",
    "s_df5 = summary(df5)\n",
    "s_df6 = summary(df6)\n",
    "s_df7 = summary(df7)\n",
    "\n",
    "f_output = pd.concat([s_df5, s_df6, s_df7], axis = 1)\n",
    "f_output = f_output.reset_index()\n",
    "\n",
    "f_output.columns = ['구분', '강제경매_부동산', '임의경매_부동산', '매매_부동산']\n",
    "f_output = f_output.sort_values('구분')\n",
    "\n",
    "f_output.iloc[3:,:].to_excel(data_path + '연도별 경매, 매매 부동산 현황 정리(2007-2023).xlsx', index = False)"
   ]
  },
  {
   "cell_type": "code",
   "execution_count": null,
   "id": "ba68b141-b8a6-409d-a203-ec4bde4a144b",
   "metadata": {},
   "outputs": [],
   "source": []
  },
  {
   "cell_type": "markdown",
   "id": "a4dacee3-eba0-41ea-ab4f-bf462952472b",
   "metadata": {},
   "source": [
    "* 연도-월별"
   ]
  },
  {
   "cell_type": "code",
   "execution_count": 271,
   "id": "903ae620-b2d0-4417-9e5c-43476890b0e7",
   "metadata": {},
   "outputs": [],
   "source": [
    "def summary2(input_):\n",
    "    df = copy.deepcopy(input_)\n",
    "    \n",
    "    df['cnt'] = df['cnt'].astype(int)\n",
    "    return df.groupby('날짜')['cnt'].sum()"
   ]
  },
  {
   "cell_type": "code",
   "execution_count": 272,
   "id": "86b9dbaa-5ce3-4552-ac9b-e6ee674b78b9",
   "metadata": {},
   "outputs": [],
   "source": [
    "s_df12 = summary2(df1)\n",
    "s_df22 = summary2(df2)\n",
    "s_df32 = summary2(df3)\n",
    "s_df42 = summary2(df4)"
   ]
  },
  {
   "cell_type": "code",
   "execution_count": 273,
   "id": "274f8ce4-46ea-4fb7-b491-9c8c870559d7",
   "metadata": {},
   "outputs": [],
   "source": [
    "f_output = pd.concat([s_df42, s_df12, s_df22, s_df32], axis = 1)\n",
    "f_output = f_output.reset_index()\n",
    "f_output.columns = ['구분', '매매', '강제', '임의', '공매']\n",
    "f_output['경/공매'] = f_output.iloc[:, 2:].sum(axis = 1)\n",
    "#f_output.loc[:, ['구분', '경/공매', '강제', '임의', '공매']].iloc[3:].to_excel(data_path + '연도별 매매, 경매 매수인 정리(2007-2023).xlsx', index = False)"
   ]
  },
  {
   "cell_type": "code",
   "execution_count": 280,
   "id": "a9341912-634f-4a94-ba6d-7e251b295143",
   "metadata": {},
   "outputs": [],
   "source": [
    "f_output.loc[f_output['구분'] >= '2007-01'].to_excel(data_path + '연도-월별 매매, 경매 매수인 정리(2007-2023).xlsx', index = False)"
   ]
  },
  {
   "cell_type": "code",
   "execution_count": null,
   "id": "3dc44791-23c0-41dc-a21a-726578a41fbb",
   "metadata": {},
   "outputs": [],
   "source": []
  },
  {
   "cell_type": "markdown",
   "id": "2f251419-31fc-48c0-b497-188f73a9ce3b",
   "metadata": {},
   "source": [
    "* 연령, 성별 산출"
   ]
  },
  {
   "cell_type": "code",
   "execution_count": 10,
   "id": "ef301728-c6a6-4be9-a5bb-8c634054669a",
   "metadata": {},
   "outputs": [],
   "source": [
    "def read_data(file):\n",
    "    try:\n",
    "        output = pd.read_excel(file)\n",
    "    except:\n",
    "        def read_xlsx(name):\n",
    "            import xlwings as xw\n",
    "            instance = xw.App(visible=False)\n",
    "            xlsx_data = xw.Book(name).sheets[0]\n",
    "            df = xlsx_data.range('A1').options(pd.DataFrame, index = False, expand = 'table').value\n",
    "            instance.quit()\n",
    "            instance.kill()\n",
    "            return df\n",
    "        output = read_xlsx(file)\n",
    "    return output"
   ]
  },
  {
   "cell_type": "code",
   "execution_count": 19,
   "id": "4ab077b7-d49b-48fa-bfc2-7f946def0000",
   "metadata": {},
   "outputs": [],
   "source": [
    "def summary2(input_):\n",
    "    import copy\n",
    "    df = copy.deepcopy(input_)\n",
    "    \n",
    "    df['구분'] = [x.split(\"-\")[0] for x in df['날짜']]\n",
    "    df['cnt'] = df['cnt'].astype(int)\n",
    "    #return df.groupby(['구분', '성별','연령대'])['cnt'].sum()\n",
    "    return df.groupby(['성별','연령대'])['cnt'].sum()"
   ]
  },
  {
   "cell_type": "code",
   "execution_count": 20,
   "id": "2d3605cf-4b25-4c08-8ca9-c65c1dae79df",
   "metadata": {},
   "outputs": [],
   "source": [
    "df1 = read_data('1.소유권이전등기(강제경매로 인한 매각) 신청 매수인 현황.xlsx') # 경매\n",
    "df2 = read_data('2.소유권이전등기(임의경매로 인한 매각) 신청 매수인 현황.xlsx') # 경매"
   ]
  },
  {
   "cell_type": "code",
   "execution_count": 26,
   "id": "e88f9b46-ed69-4a67-a938-14faf0755287",
   "metadata": {},
   "outputs": [],
   "source": [
    "df = pd.concat([df1, df2])\n",
    "s_df = summary2(df)\n",
    "s_df = pd.DataFrame(s_df).reset_index()"
   ]
  },
  {
   "cell_type": "code",
   "execution_count": 36,
   "id": "76f4ea9a-f1a3-4428-bdf7-3b9b43bd8eb5",
   "metadata": {},
   "outputs": [],
   "source": [
    "st_df = s_df.loc[~s_df['연령대'].isin(['기타', '0~18세(미성년자)'])]; st_df\n",
    "st_df['portion'] = st_df.cnt / st_df.cnt.sum()"
   ]
  },
  {
   "cell_type": "code",
   "execution_count": 43,
   "id": "de6f2f7b-a92c-4f78-8b08-5401b4837522",
   "metadata": {},
   "outputs": [
    {
     "data": {
      "text/plain": [
       "5     0.186635\n",
       "4     0.365827\n",
       "12    0.495283\n",
       "13    0.614246\n",
       "3     0.721937\n",
       "6     0.806384\n",
       "11    0.875903\n",
       "14    0.916594\n",
       "2     0.946899\n",
       "7     0.968078\n",
       "10    0.988062\n",
       "15    1.000000\n",
       "Name: portion, dtype: float64"
      ]
     },
     "execution_count": 43,
     "metadata": {},
     "output_type": "execute_result"
    }
   ],
   "source": [
    "st_df.sort_values('cnt', ascending = False).portion.cumsum()"
   ]
  },
  {
   "cell_type": "code",
   "execution_count": null,
   "id": "6e6ca618-9b9d-446e-b1da-0c5ab74bd239",
   "metadata": {},
   "outputs": [],
   "source": []
  },
  {
   "cell_type": "markdown",
   "id": "e7ed14a0-cf7c-4a73-8524-8c61329b6275",
   "metadata": {},
   "source": [
    "* eda"
   ]
  },
  {
   "cell_type": "code",
   "execution_count": 284,
   "id": "07d30e40-4541-4604-b795-89323bbf3ac1",
   "metadata": {},
   "outputs": [],
   "source": [
    "df1['cnt'] = df1['cnt'].astype(int)\n",
    "df2['cnt'] = df2['cnt'].astype(int)"
   ]
  },
  {
   "cell_type": "code",
   "execution_count": 290,
   "id": "68773e7b-53d6-4a09-a43f-a9820d32f71c",
   "metadata": {},
   "outputs": [
    {
     "data": {
      "text/html": [
       "<div>\n",
       "<style scoped>\n",
       "    .dataframe tbody tr th:only-of-type {\n",
       "        vertical-align: middle;\n",
       "    }\n",
       "\n",
       "    .dataframe tbody tr th {\n",
       "        vertical-align: top;\n",
       "    }\n",
       "\n",
       "    .dataframe thead th {\n",
       "        text-align: right;\n",
       "    }\n",
       "</style>\n",
       "<table border=\"1\" class=\"dataframe\">\n",
       "  <thead>\n",
       "    <tr style=\"text-align: right;\">\n",
       "      <th></th>\n",
       "      <th>날짜</th>\n",
       "      <th>연령대</th>\n",
       "      <th>cnt</th>\n",
       "    </tr>\n",
       "  </thead>\n",
       "  <tbody>\n",
       "    <tr>\n",
       "      <th>0</th>\n",
       "      <td>2006-11</td>\n",
       "      <td>19세~29세</td>\n",
       "      <td>11</td>\n",
       "    </tr>\n",
       "    <tr>\n",
       "      <th>1</th>\n",
       "      <td>2006-11</td>\n",
       "      <td>30세~39세</td>\n",
       "      <td>45</td>\n",
       "    </tr>\n",
       "    <tr>\n",
       "      <th>2</th>\n",
       "      <td>2006-11</td>\n",
       "      <td>40세~49세</td>\n",
       "      <td>54</td>\n",
       "    </tr>\n",
       "    <tr>\n",
       "      <th>3</th>\n",
       "      <td>2006-11</td>\n",
       "      <td>50세~59세</td>\n",
       "      <td>35</td>\n",
       "    </tr>\n",
       "    <tr>\n",
       "      <th>4</th>\n",
       "      <td>2006-11</td>\n",
       "      <td>60세~69세</td>\n",
       "      <td>10</td>\n",
       "    </tr>\n",
       "    <tr>\n",
       "      <th>...</th>\n",
       "      <td>...</td>\n",
       "      <td>...</td>\n",
       "      <td>...</td>\n",
       "    </tr>\n",
       "    <tr>\n",
       "      <th>1348</th>\n",
       "      <td>2023-09</td>\n",
       "      <td>30세~39세</td>\n",
       "      <td>84</td>\n",
       "    </tr>\n",
       "    <tr>\n",
       "      <th>1349</th>\n",
       "      <td>2023-09</td>\n",
       "      <td>40세~49세</td>\n",
       "      <td>104</td>\n",
       "    </tr>\n",
       "    <tr>\n",
       "      <th>1350</th>\n",
       "      <td>2023-09</td>\n",
       "      <td>50세~59세</td>\n",
       "      <td>193</td>\n",
       "    </tr>\n",
       "    <tr>\n",
       "      <th>1351</th>\n",
       "      <td>2023-09</td>\n",
       "      <td>60세~69세</td>\n",
       "      <td>121</td>\n",
       "    </tr>\n",
       "    <tr>\n",
       "      <th>1352</th>\n",
       "      <td>2023-09</td>\n",
       "      <td>70세 이상</td>\n",
       "      <td>33</td>\n",
       "    </tr>\n",
       "  </tbody>\n",
       "</table>\n",
       "<p>1353 rows × 3 columns</p>\n",
       "</div>"
      ],
      "text/plain": [
       "           날짜      연령대  cnt\n",
       "0     2006-11  19세~29세   11\n",
       "1     2006-11  30세~39세   45\n",
       "2     2006-11  40세~49세   54\n",
       "3     2006-11  50세~59세   35\n",
       "4     2006-11  60세~69세   10\n",
       "...       ...      ...  ...\n",
       "1348  2023-09  30세~39세   84\n",
       "1349  2023-09  40세~49세  104\n",
       "1350  2023-09  50세~59세  193\n",
       "1351  2023-09  60세~69세  121\n",
       "1352  2023-09   70세 이상   33\n",
       "\n",
       "[1353 rows x 3 columns]"
      ]
     },
     "execution_count": 290,
     "metadata": {},
     "output_type": "execute_result"
    }
   ],
   "source": [
    "pd.DataFrame(df1.groupby(['날짜', '연령대'])['cnt'].sum()).reset_index()"
   ]
  },
  {
   "cell_type": "code",
   "execution_count": 291,
   "id": "6ddd20b5-4869-476e-b4e4-eb137062ba8e",
   "metadata": {},
   "outputs": [
    {
     "data": {
      "text/html": [
       "<div>\n",
       "<style scoped>\n",
       "    .dataframe tbody tr th:only-of-type {\n",
       "        vertical-align: middle;\n",
       "    }\n",
       "\n",
       "    .dataframe tbody tr th {\n",
       "        vertical-align: top;\n",
       "    }\n",
       "\n",
       "    .dataframe thead th {\n",
       "        text-align: right;\n",
       "    }\n",
       "</style>\n",
       "<table border=\"1\" class=\"dataframe\">\n",
       "  <thead>\n",
       "    <tr style=\"text-align: right;\">\n",
       "      <th></th>\n",
       "      <th>날짜</th>\n",
       "      <th>연령대</th>\n",
       "      <th>cnt</th>\n",
       "    </tr>\n",
       "  </thead>\n",
       "  <tbody>\n",
       "    <tr>\n",
       "      <th>0</th>\n",
       "      <td>2006-11</td>\n",
       "      <td>0~18세(미성년자)</td>\n",
       "      <td>2</td>\n",
       "    </tr>\n",
       "    <tr>\n",
       "      <th>1</th>\n",
       "      <td>2006-11</td>\n",
       "      <td>19세~29세</td>\n",
       "      <td>65</td>\n",
       "    </tr>\n",
       "    <tr>\n",
       "      <th>2</th>\n",
       "      <td>2006-11</td>\n",
       "      <td>30세~39세</td>\n",
       "      <td>200</td>\n",
       "    </tr>\n",
       "    <tr>\n",
       "      <th>3</th>\n",
       "      <td>2006-11</td>\n",
       "      <td>40세~49세</td>\n",
       "      <td>218</td>\n",
       "    </tr>\n",
       "    <tr>\n",
       "      <th>4</th>\n",
       "      <td>2006-11</td>\n",
       "      <td>50세~59세</td>\n",
       "      <td>151</td>\n",
       "    </tr>\n",
       "    <tr>\n",
       "      <th>...</th>\n",
       "      <td>...</td>\n",
       "      <td>...</td>\n",
       "      <td>...</td>\n",
       "    </tr>\n",
       "    <tr>\n",
       "      <th>1328</th>\n",
       "      <td>2023-09</td>\n",
       "      <td>30세~39세</td>\n",
       "      <td>153</td>\n",
       "    </tr>\n",
       "    <tr>\n",
       "      <th>1329</th>\n",
       "      <td>2023-09</td>\n",
       "      <td>40세~49세</td>\n",
       "      <td>199</td>\n",
       "    </tr>\n",
       "    <tr>\n",
       "      <th>1330</th>\n",
       "      <td>2023-09</td>\n",
       "      <td>50세~59세</td>\n",
       "      <td>353</td>\n",
       "    </tr>\n",
       "    <tr>\n",
       "      <th>1331</th>\n",
       "      <td>2023-09</td>\n",
       "      <td>60세~69세</td>\n",
       "      <td>190</td>\n",
       "    </tr>\n",
       "    <tr>\n",
       "      <th>1332</th>\n",
       "      <td>2023-09</td>\n",
       "      <td>70세 이상</td>\n",
       "      <td>70</td>\n",
       "    </tr>\n",
       "  </tbody>\n",
       "</table>\n",
       "<p>1333 rows × 3 columns</p>\n",
       "</div>"
      ],
      "text/plain": [
       "           날짜          연령대  cnt\n",
       "0     2006-11  0~18세(미성년자)    2\n",
       "1     2006-11      19세~29세   65\n",
       "2     2006-11      30세~39세  200\n",
       "3     2006-11      40세~49세  218\n",
       "4     2006-11      50세~59세  151\n",
       "...       ...          ...  ...\n",
       "1328  2023-09      30세~39세  153\n",
       "1329  2023-09      40세~49세  199\n",
       "1330  2023-09      50세~59세  353\n",
       "1331  2023-09      60세~69세  190\n",
       "1332  2023-09       70세 이상   70\n",
       "\n",
       "[1333 rows x 3 columns]"
      ]
     },
     "execution_count": 291,
     "metadata": {},
     "output_type": "execute_result"
    }
   ],
   "source": [
    "pd.DataFrame(df2.groupby(['날짜', '연령대'])['cnt'].sum()).reset_index()"
   ]
  }
 ],
 "metadata": {
  "kernelspec": {
   "display_name": "Python 3 (ipykernel)",
   "language": "python",
   "name": "python3"
  },
  "language_info": {
   "codemirror_mode": {
    "name": "ipython",
    "version": 3
   },
   "file_extension": ".py",
   "mimetype": "text/x-python",
   "name": "python",
   "nbconvert_exporter": "python",
   "pygments_lexer": "ipython3",
   "version": "3.9.13"
  }
 },
 "nbformat": 4,
 "nbformat_minor": 5
}
